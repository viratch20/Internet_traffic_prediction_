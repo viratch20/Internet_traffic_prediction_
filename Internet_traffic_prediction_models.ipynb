{
 "cells": [
  {
   "cell_type": "code",
   "execution_count": 1,
   "id": "67ed341c",
   "metadata": {},
   "outputs": [
    {
     "data": {
      "text/html": [
       "<div>\n",
       "<style scoped>\n",
       "    .dataframe tbody tr th:only-of-type {\n",
       "        vertical-align: middle;\n",
       "    }\n",
       "\n",
       "    .dataframe tbody tr th {\n",
       "        vertical-align: top;\n",
       "    }\n",
       "\n",
       "    .dataframe thead th {\n",
       "        text-align: right;\n",
       "    }\n",
       "</style>\n",
       "<table border=\"1\" class=\"dataframe\">\n",
       "  <thead>\n",
       "    <tr style=\"text-align: right;\">\n",
       "      <th></th>\n",
       "      <th>Date</th>\n",
       "      <th>Daily Visitors</th>\n",
       "    </tr>\n",
       "  </thead>\n",
       "  <tbody>\n",
       "    <tr>\n",
       "      <th>0</th>\n",
       "      <td>01-10-2021</td>\n",
       "      <td>2649</td>\n",
       "    </tr>\n",
       "    <tr>\n",
       "      <th>1</th>\n",
       "      <td>02-10-2021</td>\n",
       "      <td>2000</td>\n",
       "    </tr>\n",
       "    <tr>\n",
       "      <th>2</th>\n",
       "      <td>03-10-2021</td>\n",
       "      <td>2011</td>\n",
       "    </tr>\n",
       "    <tr>\n",
       "      <th>3</th>\n",
       "      <td>04-10-2021</td>\n",
       "      <td>3219</td>\n",
       "    </tr>\n",
       "    <tr>\n",
       "      <th>4</th>\n",
       "      <td>05-10-2021</td>\n",
       "      <td>3870</td>\n",
       "    </tr>\n",
       "  </tbody>\n",
       "</table>\n",
       "</div>"
      ],
      "text/plain": [
       "         Date  Daily Visitors\n",
       "0  01-10-2021            2649\n",
       "1  02-10-2021            2000\n",
       "2  03-10-2021            2011\n",
       "3  04-10-2021            3219\n",
       "4  05-10-2021            3870"
      ]
     },
     "execution_count": 1,
     "metadata": {},
     "output_type": "execute_result"
    }
   ],
   "source": [
    "import pandas as pd \n",
    "import numpy as np \n",
    "import matplotlib.pyplot as plt \n",
    "#Importing data\n",
    "df= pd.read_csv('Website Vistiors Daywise.csv')\n",
    "#Printing head\n",
    "df.head()\n",
    "\n"
   ]
  },
  {
   "cell_type": "code",
   "execution_count": 2,
   "id": "cb942160",
   "metadata": {},
   "outputs": [
    {
     "data": {
      "text/html": [
       "<div>\n",
       "<style scoped>\n",
       "    .dataframe tbody tr th:only-of-type {\n",
       "        vertical-align: middle;\n",
       "    }\n",
       "\n",
       "    .dataframe tbody tr th {\n",
       "        vertical-align: top;\n",
       "    }\n",
       "\n",
       "    .dataframe thead th {\n",
       "        text-align: right;\n",
       "    }\n",
       "</style>\n",
       "<table border=\"1\" class=\"dataframe\">\n",
       "  <thead>\n",
       "    <tr style=\"text-align: right;\">\n",
       "      <th></th>\n",
       "      <th>Date</th>\n",
       "      <th>Daily Visitors</th>\n",
       "    </tr>\n",
       "  </thead>\n",
       "  <tbody>\n",
       "    <tr>\n",
       "      <th>168</th>\n",
       "      <td>18-03-2022</td>\n",
       "      <td>2494</td>\n",
       "    </tr>\n",
       "    <tr>\n",
       "      <th>169</th>\n",
       "      <td>19-03-2022</td>\n",
       "      <td>2976</td>\n",
       "    </tr>\n",
       "    <tr>\n",
       "      <th>170</th>\n",
       "      <td>20-03-2022</td>\n",
       "      <td>2534</td>\n",
       "    </tr>\n",
       "    <tr>\n",
       "      <th>171</th>\n",
       "      <td>21-03-2022</td>\n",
       "      <td>3641</td>\n",
       "    </tr>\n",
       "    <tr>\n",
       "      <th>172</th>\n",
       "      <td>22-03-2022</td>\n",
       "      <td>4031</td>\n",
       "    </tr>\n",
       "  </tbody>\n",
       "</table>\n",
       "</div>"
      ],
      "text/plain": [
       "           Date  Daily Visitors\n",
       "168  18-03-2022            2494\n",
       "169  19-03-2022            2976\n",
       "170  20-03-2022            2534\n",
       "171  21-03-2022            3641\n",
       "172  22-03-2022            4031"
      ]
     },
     "execution_count": 2,
     "metadata": {},
     "output_type": "execute_result"
    }
   ],
   "source": [
    "#Printing tail\n",
    "df.tail()"
   ]
  },
  {
   "cell_type": "code",
   "execution_count": 3,
   "id": "5374532b",
   "metadata": {},
   "outputs": [],
   "source": [
    "#Subsetting the dataset\n",
    "#Index 11856 marks the end of year 2013\n",
    "df = pd.read_csv('Website Vistiors Daywise.csv', nrows = 11856)\n",
    "\n",
    "#Creating train and test set \n",
    "#Index 10392 marks the end of October 2013 \n",
    "from sklearn.model_selection import train_test_split\n",
    "# split the data into train and test set\n",
    "train, test = train_test_split(df, test_size=0.2, random_state=3, shuffle=True)\n"
   ]
  },
  {
   "cell_type": "code",
   "execution_count": 4,
   "id": "f63ce454",
   "metadata": {},
   "outputs": [
    {
     "data": {
      "text/plain": [
       "(138, 2)"
      ]
     },
     "execution_count": 4,
     "metadata": {},
     "output_type": "execute_result"
    }
   ],
   "source": [
    "train.shape"
   ]
  },
  {
   "cell_type": "code",
   "execution_count": 5,
   "id": "28d0cc22",
   "metadata": {},
   "outputs": [
    {
     "data": {
      "text/plain": [
       "(35, 2)"
      ]
     },
     "execution_count": 5,
     "metadata": {},
     "output_type": "execute_result"
    }
   ],
   "source": [
    "test.shape"
   ]
  },
  {
   "cell_type": "markdown",
   "id": "0d7804ff",
   "metadata": {},
   "source": [
    "# Naive Approach"
   ]
  },
  {
   "cell_type": "code",
   "execution_count": 6,
   "id": "294f5ecc",
   "metadata": {},
   "outputs": [],
   "source": [
    "dd= np.asarray(train['Daily Visitors'])\n",
    "y_hat = test.copy()\n",
    "y_hat['naive'] = dd[len(dd)-1]"
   ]
  },
  {
   "cell_type": "code",
   "execution_count": 7,
   "id": "ba4743b8",
   "metadata": {},
   "outputs": [
    {
     "name": "stdout",
     "output_type": "stream",
     "text": [
      "899.8249671066986\n"
     ]
    }
   ],
   "source": [
    "from sklearn.metrics import mean_squared_error\n",
    "from math import sqrt\n",
    "Naive_approach_rmse = sqrt(mean_squared_error(test['Daily Visitors'], y_hat.naive))\n",
    "print(Naive_approach_rmse)"
   ]
  },
  {
   "cell_type": "markdown",
   "id": "bb554982",
   "metadata": {},
   "source": [
    "# Simple Average"
   ]
  },
  {
   "cell_type": "code",
   "execution_count": 8,
   "id": "961a0b7e",
   "metadata": {},
   "outputs": [],
   "source": [
    "y_hat_avg = test.copy()\n",
    "y_hat_avg['avg_forecast'] = train['Daily Visitors'].mean()"
   ]
  },
  {
   "cell_type": "code",
   "execution_count": 9,
   "id": "e891d567",
   "metadata": {},
   "outputs": [
    {
     "name": "stdout",
     "output_type": "stream",
     "text": [
      "802.1979163528973\n"
     ]
    }
   ],
   "source": [
    "Simple_average_rmse = sqrt(mean_squared_error(test['Daily Visitors'], y_hat_avg.avg_forecast))\n",
    "print(Simple_average_rmse)"
   ]
  },
  {
   "cell_type": "markdown",
   "id": "a51ed9cb",
   "metadata": {},
   "source": [
    "# Moving Average"
   ]
  },
  {
   "cell_type": "code",
   "execution_count": 10,
   "id": "878e6190",
   "metadata": {},
   "outputs": [],
   "source": [
    "y_hat_avg = test.copy()\n",
    "y_hat_avg['moving_avg_forecast'] = train['Daily Visitors'].rolling(60).mean().iloc[-1]"
   ]
  },
  {
   "cell_type": "code",
   "execution_count": 11,
   "id": "ef1e5497",
   "metadata": {},
   "outputs": [
    {
     "name": "stdout",
     "output_type": "stream",
     "text": [
      "794.9470166032131\n"
     ]
    }
   ],
   "source": [
    "Moving_average_rmse = sqrt(mean_squared_error(test['Daily Visitors'], y_hat_avg.moving_avg_forecast))\n",
    "print(Moving_average_rmse)"
   ]
  },
  {
   "cell_type": "markdown",
   "id": "4129a33c",
   "metadata": {},
   "source": [
    "# #Simple Exponential Smoothing"
   ]
  },
  {
   "cell_type": "code",
   "execution_count": 12,
   "id": "4dd2a63b",
   "metadata": {},
   "outputs": [],
   "source": [
    "import  scipy.signal.signaltools\n",
    "\n",
    "def _centered(arr, newsize):\n",
    "    # Return the center newsize portion of the array.\n",
    "    newsize = np.asarray(newsize)\n",
    "    currsize = np.array(arr.shape)\n",
    "    startind = (currsize - newsize) // 2\n",
    "    endind = startind + newsize\n",
    "    myslice = [slice(startind[k], endind[k]) for k in range(len(endind))]\n",
    "    return arr[tuple(myslice)]\n",
    "\n",
    "scipy.signal.signaltools._centered = _centered"
   ]
  },
  {
   "cell_type": "code",
   "execution_count": 13,
   "id": "cb0cb7aa",
   "metadata": {},
   "outputs": [
    {
     "name": "stderr",
     "output_type": "stream",
     "text": [
      "C:\\Users\\Dell\\anaconda3\\lib\\site-packages\\statsmodels\\tsa\\holtwinters\\model.py:427: FutureWarning: After 0.13 initialization must be handled at model creation\n",
      "  warnings.warn(\n"
     ]
    }
   ],
   "source": [
    "from statsmodels.tsa.api import ExponentialSmoothing, SimpleExpSmoothing, Holt\n",
    "y_hat_avg = test.copy()\n",
    "fit2 = SimpleExpSmoothing(np.asarray(train['Daily Visitors'])).fit(smoothing_level=0.6,optimized=False)\n",
    "y_hat_avg['SES'] = fit2.forecast(len(test))\n"
   ]
  },
  {
   "cell_type": "code",
   "execution_count": 14,
   "id": "829ec88d",
   "metadata": {},
   "outputs": [
    {
     "name": "stdout",
     "output_type": "stream",
     "text": [
      "796.0619072154274\n"
     ]
    }
   ],
   "source": [
    "Simple_exponential_smoothing_rmse = sqrt(mean_squared_error(test['Daily Visitors'], y_hat_avg.SES))\n",
    "print(Simple_exponential_smoothing_rmse)\n"
   ]
  },
  {
   "cell_type": "markdown",
   "id": "dd913657",
   "metadata": {},
   "source": [
    "# #Holt’s Linear Trend method"
   ]
  },
  {
   "cell_type": "code",
   "execution_count": 15,
   "id": "eda76751",
   "metadata": {},
   "outputs": [
    {
     "name": "stderr",
     "output_type": "stream",
     "text": [
      "C:\\Users\\Dell\\anaconda3\\lib\\site-packages\\statsmodels\\tsa\\holtwinters\\model.py:427: FutureWarning: After 0.13 initialization must be handled at model creation\n",
      "  warnings.warn(\n",
      "<ipython-input-15-48ee11a63e62>:3: FutureWarning: the 'smoothing_slope'' keyword is deprecated, use 'smoothing_trend' instead\n",
      "  fit1 = Holt(np.asarray(train['Daily Visitors'])).fit(smoothing_level = 0.3,smoothing_slope = 0.1)\n"
     ]
    }
   ],
   "source": [
    "y_hat_avg = test.copy()\n",
    "\n",
    "fit1 = Holt(np.asarray(train['Daily Visitors'])).fit(smoothing_level = 0.3,smoothing_slope = 0.1)\n",
    "y_hat_avg['Holt_linear'] = fit1.forecast(len(test))"
   ]
  },
  {
   "cell_type": "code",
   "execution_count": 16,
   "id": "92ccd61d",
   "metadata": {},
   "outputs": [
    {
     "name": "stdout",
     "output_type": "stream",
     "text": [
      "827.2488355896172\n"
     ]
    }
   ],
   "source": [
    "Holt_linear_trend_method_rmse = sqrt(mean_squared_error(test['Daily Visitors'], y_hat_avg.Holt_linear))\n",
    "print(Holt_linear_trend_method_rmse)"
   ]
  },
  {
   "cell_type": "markdown",
   "id": "2ccaf5fc",
   "metadata": {},
   "source": [
    "# Holt-Winters Method"
   ]
  },
  {
   "cell_type": "code",
   "execution_count": 17,
   "id": "fbefb933",
   "metadata": {},
   "outputs": [
    {
     "name": "stderr",
     "output_type": "stream",
     "text": [
      "C:\\Users\\Dell\\anaconda3\\lib\\site-packages\\statsmodels\\tsa\\holtwinters\\model.py:427: FutureWarning: After 0.13 initialization must be handled at model creation\n",
      "  warnings.warn(\n",
      "C:\\Users\\Dell\\anaconda3\\lib\\site-packages\\statsmodels\\tsa\\holtwinters\\model.py:920: ConvergenceWarning: Optimization failed to converge. Check mle_retvals.\n",
      "  warnings.warn(\n"
     ]
    }
   ],
   "source": [
    "y_hat_avg = test.copy()\n",
    "fit1 = ExponentialSmoothing(np.asarray(train['Daily Visitors']) ,seasonal_periods=7 ,trend='add', seasonal='add',).fit()\n",
    "y_hat_avg['Holt_Winter'] = fit1.forecast(len(test))"
   ]
  },
  {
   "cell_type": "code",
   "execution_count": 18,
   "id": "db9bddc6",
   "metadata": {},
   "outputs": [
    {
     "name": "stdout",
     "output_type": "stream",
     "text": [
      "894.1429858937604\n"
     ]
    }
   ],
   "source": [
    "Holt_winters_method_rmse = sqrt(mean_squared_error(test['Daily Visitors'], y_hat_avg.Holt_Winter))\n",
    "print(Holt_winters_method_rmse)"
   ]
  },
  {
   "cell_type": "code",
   "execution_count": 19,
   "id": "b5cd45b9",
   "metadata": {},
   "outputs": [
    {
     "data": {
      "text/html": [
       "<div>\n",
       "<style scoped>\n",
       "    .dataframe tbody tr th:only-of-type {\n",
       "        vertical-align: middle;\n",
       "    }\n",
       "\n",
       "    .dataframe tbody tr th {\n",
       "        vertical-align: top;\n",
       "    }\n",
       "\n",
       "    .dataframe thead th {\n",
       "        text-align: right;\n",
       "    }\n",
       "</style>\n",
       "<table border=\"1\" class=\"dataframe\">\n",
       "  <thead>\n",
       "    <tr style=\"text-align: right;\">\n",
       "      <th></th>\n",
       "      <th>MODEL</th>\n",
       "      <th>RMSE_Values</th>\n",
       "    </tr>\n",
       "  </thead>\n",
       "  <tbody>\n",
       "    <tr>\n",
       "      <th>2</th>\n",
       "      <td>Moving_average_rmse</td>\n",
       "      <td>794.947017</td>\n",
       "    </tr>\n",
       "    <tr>\n",
       "      <th>3</th>\n",
       "      <td>Simple_exponential_smoothing_rmse</td>\n",
       "      <td>796.061907</td>\n",
       "    </tr>\n",
       "    <tr>\n",
       "      <th>1</th>\n",
       "      <td>Simple_average_rmse</td>\n",
       "      <td>802.197916</td>\n",
       "    </tr>\n",
       "    <tr>\n",
       "      <th>4</th>\n",
       "      <td>Holt_linear_trend_method_rmse</td>\n",
       "      <td>827.248836</td>\n",
       "    </tr>\n",
       "    <tr>\n",
       "      <th>5</th>\n",
       "      <td>Holt_winters_method_rmse</td>\n",
       "      <td>894.142986</td>\n",
       "    </tr>\n",
       "    <tr>\n",
       "      <th>0</th>\n",
       "      <td>Naive_approach_rmse</td>\n",
       "      <td>899.824967</td>\n",
       "    </tr>\n",
       "  </tbody>\n",
       "</table>\n",
       "</div>"
      ],
      "text/plain": [
       "                               MODEL  RMSE_Values\n",
       "2               Moving_average_rmse    794.947017\n",
       "3  Simple_exponential_smoothing_rmse   796.061907\n",
       "1                Simple_average_rmse   802.197916\n",
       "4     Holt_linear_trend_method_rmse    827.248836\n",
       "5           Holt_winters_method_rmse   894.142986\n",
       "0                Naive_approach_rmse   899.824967"
      ]
     },
     "execution_count": 19,
     "metadata": {},
     "output_type": "execute_result"
    }
   ],
   "source": [
    "#Compare the results \n",
    "\n",
    "data = {\"MODEL\":pd.Series(['Naive_approach_rmse','Simple_average_rmse','Moving_average_rmse ','Simple_exponential_smoothing_rmse','Holt_linear_trend_method_rmse ','Holt_winters_method_rmse']),\"RMSE_Values\":pd.Series([Naive_approach_rmse,Simple_average_rmse,Moving_average_rmse ,Simple_exponential_smoothing_rmse,Holt_linear_trend_method_rmse ,Holt_winters_method_rmse])}\n",
    "table_rmse=pd.DataFrame(data)\n",
    "table_rmse.sort_values(['RMSE_Values'])"
   ]
  }
 ],
 "metadata": {
  "kernelspec": {
   "display_name": "Python 3",
   "language": "python",
   "name": "python3"
  },
  "language_info": {
   "codemirror_mode": {
    "name": "ipython",
    "version": 3
   },
   "file_extension": ".py",
   "mimetype": "text/x-python",
   "name": "python",
   "nbconvert_exporter": "python",
   "pygments_lexer": "ipython3",
   "version": "3.8.8"
  }
 },
 "nbformat": 4,
 "nbformat_minor": 5
}
